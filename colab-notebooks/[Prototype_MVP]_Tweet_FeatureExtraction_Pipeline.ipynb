{
  "cells": [
    {
      "cell_type": "code",
      "execution_count": null,
      "metadata": {
        "colab": {
          "base_uri": "https://localhost:8080/"
        },
        "id": "TDRUY_n3BeAu",
        "outputId": "8d700c8e-2988-4314-be71-1156eedd95da"
      },
      "outputs": [
        {
          "output_type": "stream",
          "name": "stdout",
          "text": [
            "Python 3.11.11\n",
            "nvcc: NVIDIA (R) Cuda compiler driver\n",
            "Copyright (c) 2005-2024 NVIDIA Corporation\n",
            "Built on Thu_Jun__6_02:18:23_PDT_2024\n",
            "Cuda compilation tools, release 12.5, V12.5.82\n",
            "Build cuda_12.5.r12.5/compiler.34385749_0\n"
          ]
        }
      ],
      "source": [
        "!python --version\n",
        "!nvcc --version"
      ]
    },
    {
      "cell_type": "markdown",
      "metadata": {
        "id": "WtODn3TxASIy"
      },
      "source": [
        "### Install Dependencies\n",
        "\n",
        "- `aisuite`: open-source library for ease-of-access to all LLMs\n",
        "- Currently available:\n",
        "  -"
      ]
    },
    {
      "cell_type": "code",
      "execution_count": null,
      "metadata": {
        "colab": {
          "base_uri": "https://localhost:8080/"
        },
        "id": "YihIJjb-_n9J",
        "outputId": "6a836cce-b0be-4b24-8993-5a00e805ef9c"
      },
      "outputs": [
        {
          "output_type": "stream",
          "name": "stdout",
          "text": [
            "\u001b[?25l   \u001b[90m━━━━━━━━━━━━━━━━━━━━━━━━━━━━━━━━━━━━━━━━\u001b[0m \u001b[32m0.0/86.0 kB\u001b[0m \u001b[31m?\u001b[0m eta \u001b[36m-:--:--\u001b[0m\r\u001b[2K   \u001b[91m━━━━━━━━━━━━━━━━━━━━━━━━━━━━━━━━━━━━━━\u001b[0m\u001b[90m╺\u001b[0m\u001b[90m━\u001b[0m \u001b[32m81.9/86.0 kB\u001b[0m \u001b[31m8.8 MB/s\u001b[0m eta \u001b[36m0:00:01\u001b[0m\r\u001b[2K   \u001b[90m━━━━━━━━━━━━━━━━━━━━━━━━━━━━━━━━━━━━━━━━\u001b[0m \u001b[32m86.0/86.0 kB\u001b[0m \u001b[31m2.2 MB/s\u001b[0m eta \u001b[36m0:00:00\u001b[0m\n",
            "\u001b[2K   \u001b[90m━━━━━━━━━━━━━━━━━━━━━━━━━━━━━━━━━━━━━━━━\u001b[0m \u001b[32m126.7/126.7 kB\u001b[0m \u001b[31m5.4 MB/s\u001b[0m eta \u001b[36m0:00:00\u001b[0m\n",
            "\u001b[2K   \u001b[90m━━━━━━━━━━━━━━━━━━━━━━━━━━━━━━━━━━━━━━━━\u001b[0m \u001b[32m161.7/161.7 kB\u001b[0m \u001b[31m7.6 MB/s\u001b[0m eta \u001b[36m0:00:00\u001b[0m\n",
            "\u001b[2K   \u001b[90m━━━━━━━━━━━━━━━━━━━━━━━━━━━━━━━━━━━━━━━━\u001b[0m \u001b[32m345.6/345.6 kB\u001b[0m \u001b[31m14.4 MB/s\u001b[0m eta \u001b[36m0:00:00\u001b[0m\n",
            "\u001b[2K   \u001b[90m━━━━━━━━━━━━━━━━━━━━━━━━━━━━━━━━━━━━━━━━\u001b[0m \u001b[32m3.1/3.1 MB\u001b[0m \u001b[31m34.7 MB/s\u001b[0m eta \u001b[36m0:00:00\u001b[0m\n",
            "\u001b[?25h"
          ]
        }
      ],
      "source": [
        "!pip install docstring-parser pydantic instructor groq fuzzywuzzy python-Levenshtein --quiet"
      ]
    },
    {
      "cell_type": "markdown",
      "metadata": {
        "id": "E-q0NMVuAsaE"
      },
      "source": [
        "### Import dependencies"
      ]
    },
    {
      "cell_type": "code",
      "execution_count": null,
      "metadata": {
        "id": "eSuzrtCPAQpH"
      },
      "outputs": [],
      "source": [
        "import numpy as np\n",
        "import pandas as pd\n",
        "import matplotlib.pyplot as plt\n",
        "\n",
        "import os\n",
        "import sys\n",
        "\n",
        "from IPython.display import Markdown as md"
      ]
    },
    {
      "cell_type": "markdown",
      "metadata": {
        "id": "rthQatncC0gx"
      },
      "source": [
        "# I. Inspect Sample Dataset"
      ]
    },
    {
      "cell_type": "markdown",
      "metadata": {
        "id": "rrQV1L52mT7z"
      },
      "source": [
        "Mount your Google drive so that Colab can access the file directory system.\n",
        "\n",
        "**Note:** Add the entire `UP DSSoc X Vote Report PH` folder as a shortcut to your \"My Drive\" directory first."
      ]
    },
    {
      "cell_type": "code",
      "execution_count": null,
      "metadata": {
        "colab": {
          "base_uri": "https://localhost:8080/"
        },
        "id": "-ABClDp_RtON",
        "outputId": "392981ba-c1a6-41a7-8abc-4b804c203a7e"
      },
      "outputs": [
        {
          "output_type": "stream",
          "name": "stdout",
          "text": [
            "Mounted at /content/drive\n"
          ]
        }
      ],
      "source": [
        "# Check if running in Google Colab\n",
        "IN_COLAB = 'google.colab' in sys.modules\n",
        "\n",
        "if IN_COLAB:\n",
        "    from google.colab import drive, userdata\n",
        "\n",
        "    hf_token = userdata.get('huggingface')\n",
        "    groq_token = userdata.get('groq')\n",
        "\n",
        "    gdrive_string = '/content/drive'\n",
        "    drive.mount(gdrive_string)\n",
        "    VRPH_fdir = f'{gdrive_string}/MyDrive/UP DSSoc X Vote Report PH'\n",
        "else:\n",
        "    from dotenv import load_dotenv\n",
        "    from huggingface_hub import login\n",
        "\n",
        "    load_dotenv(dotenv_path='Data/env/.env')\n",
        "\n",
        "    hf_token = os.getenv(\"HF_TOKEN\")\n",
        "    groq_token = os.getenv(\"GROQ_TOKEN\")\n",
        "\n",
        "    if hf_token is None:\n",
        "        raise ValueError(\"HF_TOKEN not found in environment variables.\")\n",
        "\n",
        "    login(token=hf_token)\n",
        "    VRPH_fdir = '.'"
      ]
    },
    {
      "cell_type": "markdown",
      "metadata": {
        "id": "UduHm_16myOZ"
      },
      "source": [
        "Load the sample dataset then preview the available columns."
      ]
    },
    {
      "cell_type": "code",
      "execution_count": null,
      "metadata": {
        "colab": {
          "base_uri": "https://localhost:8080/"
        },
        "id": "Ja8Bu_ZFC9j3",
        "outputId": "34c1f8ab-70ec-4a88-9e71-873815bcae53"
      },
      "outputs": [
        {
          "output_type": "stream",
          "name": "stdout",
          "text": [
            "<class 'pandas.core.frame.DataFrame'>\n",
            "RangeIndex: 62 entries, 0 to 61\n",
            "Data columns (total 4 columns):\n",
            " #   Column      Non-Null Count  Dtype \n",
            "---  ------      --------------  ----- \n",
            " 0   created_at  62 non-null     object\n",
            " 1   full_text   62 non-null     object\n",
            " 2   id          62 non-null     int64 \n",
            " 3   url         62 non-null     object\n",
            "dtypes: int64(1), object(3)\n",
            "memory usage: 2.1+ KB\n"
          ]
        }
      ],
      "source": [
        "file_path = f'{VRPH_fdir}/Data/Input/May/May 1/JAN 1 2022-MAY 1 2022 TWEETS.xlsx'\n",
        "may1_df = pd.read_excel(file_path, sheet_name='Data')\n",
        "may1_df.info()"
      ]
    },
    {
      "cell_type": "code",
      "execution_count": null,
      "metadata": {
        "colab": {
          "base_uri": "https://localhost:8080/",
          "height": 206
        },
        "id": "nxhYEH1HRXQ4",
        "outputId": "210fd2f2-57eb-4038-906c-2311585ee561"
      },
      "outputs": [
        {
          "output_type": "execute_result",
          "data": {
            "text/plain": [
              "                 created_at  \\\n",
              "0  2022-03-31T22:35:10.000Z   \n",
              "1  2022-02-17T08:42:21.000Z   \n",
              "2  2022-03-18T00:54:22.000Z   \n",
              "3  2022-03-08T01:55:22.000Z   \n",
              "4  2022-02-01T10:51:34.000Z   \n",
              "\n",
              "                                           full_text                   id  \\\n",
              "0  ANO TO BATAAN? YUNG SAKIN SIMPLENG PLACARD LAN...  1509660602389524521   \n",
              "1  @lilyoftheveil17 @jabjimenez @COMELEC @DOHgovp...  1494230727025905667   \n",
              "2         Hindi ba bawal yan @VoteReportPH #VRPH2022  1504622202154778626   \n",
              "3  Here at the Guiguinto Municipal Oval Uniteam r...  1501013676585021441   \n",
              "4  Hello, we are VoteReportPH ☀️  a grassroots-ba...  1488465040525053952   \n",
              "\n",
              "                                                 url  \n",
              "0  https://twitter.com/NongNiko/status/1509660602...  \n",
              "1  https://twitter.com/reinteee/status/1494230727...  \n",
              "2  https://twitter.com/KimTomCan/status/150462220...  \n",
              "3  https://twitter.com/lianbuan/status/1501013676...  \n",
              "4  https://twitter.com/VoteReportPH/status/148846...  "
            ],
            "text/html": [
              "\n",
              "  <div id=\"df-7692ccdf-d26d-4c64-a71c-ff52aa6cdd1a\" class=\"colab-df-container\">\n",
              "    <div>\n",
              "<style scoped>\n",
              "    .dataframe tbody tr th:only-of-type {\n",
              "        vertical-align: middle;\n",
              "    }\n",
              "\n",
              "    .dataframe tbody tr th {\n",
              "        vertical-align: top;\n",
              "    }\n",
              "\n",
              "    .dataframe thead th {\n",
              "        text-align: right;\n",
              "    }\n",
              "</style>\n",
              "<table border=\"1\" class=\"dataframe\">\n",
              "  <thead>\n",
              "    <tr style=\"text-align: right;\">\n",
              "      <th></th>\n",
              "      <th>created_at</th>\n",
              "      <th>full_text</th>\n",
              "      <th>id</th>\n",
              "      <th>url</th>\n",
              "    </tr>\n",
              "  </thead>\n",
              "  <tbody>\n",
              "    <tr>\n",
              "      <th>0</th>\n",
              "      <td>2022-03-31T22:35:10.000Z</td>\n",
              "      <td>ANO TO BATAAN? YUNG SAKIN SIMPLENG PLACARD LAN...</td>\n",
              "      <td>1509660602389524521</td>\n",
              "      <td>https://twitter.com/NongNiko/status/1509660602...</td>\n",
              "    </tr>\n",
              "    <tr>\n",
              "      <th>1</th>\n",
              "      <td>2022-02-17T08:42:21.000Z</td>\n",
              "      <td>@lilyoftheveil17 @jabjimenez @COMELEC @DOHgovp...</td>\n",
              "      <td>1494230727025905667</td>\n",
              "      <td>https://twitter.com/reinteee/status/1494230727...</td>\n",
              "    </tr>\n",
              "    <tr>\n",
              "      <th>2</th>\n",
              "      <td>2022-03-18T00:54:22.000Z</td>\n",
              "      <td>Hindi ba bawal yan @VoteReportPH #VRPH2022</td>\n",
              "      <td>1504622202154778626</td>\n",
              "      <td>https://twitter.com/KimTomCan/status/150462220...</td>\n",
              "    </tr>\n",
              "    <tr>\n",
              "      <th>3</th>\n",
              "      <td>2022-03-08T01:55:22.000Z</td>\n",
              "      <td>Here at the Guiguinto Municipal Oval Uniteam r...</td>\n",
              "      <td>1501013676585021441</td>\n",
              "      <td>https://twitter.com/lianbuan/status/1501013676...</td>\n",
              "    </tr>\n",
              "    <tr>\n",
              "      <th>4</th>\n",
              "      <td>2022-02-01T10:51:34.000Z</td>\n",
              "      <td>Hello, we are VoteReportPH ☀️  a grassroots-ba...</td>\n",
              "      <td>1488465040525053952</td>\n",
              "      <td>https://twitter.com/VoteReportPH/status/148846...</td>\n",
              "    </tr>\n",
              "  </tbody>\n",
              "</table>\n",
              "</div>\n",
              "    <div class=\"colab-df-buttons\">\n",
              "\n",
              "  <div class=\"colab-df-container\">\n",
              "    <button class=\"colab-df-convert\" onclick=\"convertToInteractive('df-7692ccdf-d26d-4c64-a71c-ff52aa6cdd1a')\"\n",
              "            title=\"Convert this dataframe to an interactive table.\"\n",
              "            style=\"display:none;\">\n",
              "\n",
              "  <svg xmlns=\"http://www.w3.org/2000/svg\" height=\"24px\" viewBox=\"0 -960 960 960\">\n",
              "    <path d=\"M120-120v-720h720v720H120Zm60-500h600v-160H180v160Zm220 220h160v-160H400v160Zm0 220h160v-160H400v160ZM180-400h160v-160H180v160Zm440 0h160v-160H620v160ZM180-180h160v-160H180v160Zm440 0h160v-160H620v160Z\"/>\n",
              "  </svg>\n",
              "    </button>\n",
              "\n",
              "  <style>\n",
              "    .colab-df-container {\n",
              "      display:flex;\n",
              "      gap: 12px;\n",
              "    }\n",
              "\n",
              "    .colab-df-convert {\n",
              "      background-color: #E8F0FE;\n",
              "      border: none;\n",
              "      border-radius: 50%;\n",
              "      cursor: pointer;\n",
              "      display: none;\n",
              "      fill: #1967D2;\n",
              "      height: 32px;\n",
              "      padding: 0 0 0 0;\n",
              "      width: 32px;\n",
              "    }\n",
              "\n",
              "    .colab-df-convert:hover {\n",
              "      background-color: #E2EBFA;\n",
              "      box-shadow: 0px 1px 2px rgba(60, 64, 67, 0.3), 0px 1px 3px 1px rgba(60, 64, 67, 0.15);\n",
              "      fill: #174EA6;\n",
              "    }\n",
              "\n",
              "    .colab-df-buttons div {\n",
              "      margin-bottom: 4px;\n",
              "    }\n",
              "\n",
              "    [theme=dark] .colab-df-convert {\n",
              "      background-color: #3B4455;\n",
              "      fill: #D2E3FC;\n",
              "    }\n",
              "\n",
              "    [theme=dark] .colab-df-convert:hover {\n",
              "      background-color: #434B5C;\n",
              "      box-shadow: 0px 1px 3px 1px rgba(0, 0, 0, 0.15);\n",
              "      filter: drop-shadow(0px 1px 2px rgba(0, 0, 0, 0.3));\n",
              "      fill: #FFFFFF;\n",
              "    }\n",
              "  </style>\n",
              "\n",
              "    <script>\n",
              "      const buttonEl =\n",
              "        document.querySelector('#df-7692ccdf-d26d-4c64-a71c-ff52aa6cdd1a button.colab-df-convert');\n",
              "      buttonEl.style.display =\n",
              "        google.colab.kernel.accessAllowed ? 'block' : 'none';\n",
              "\n",
              "      async function convertToInteractive(key) {\n",
              "        const element = document.querySelector('#df-7692ccdf-d26d-4c64-a71c-ff52aa6cdd1a');\n",
              "        const dataTable =\n",
              "          await google.colab.kernel.invokeFunction('convertToInteractive',\n",
              "                                                    [key], {});\n",
              "        if (!dataTable) return;\n",
              "\n",
              "        const docLinkHtml = 'Like what you see? Visit the ' +\n",
              "          '<a target=\"_blank\" href=https://colab.research.google.com/notebooks/data_table.ipynb>data table notebook</a>'\n",
              "          + ' to learn more about interactive tables.';\n",
              "        element.innerHTML = '';\n",
              "        dataTable['output_type'] = 'display_data';\n",
              "        await google.colab.output.renderOutput(dataTable, element);\n",
              "        const docLink = document.createElement('div');\n",
              "        docLink.innerHTML = docLinkHtml;\n",
              "        element.appendChild(docLink);\n",
              "      }\n",
              "    </script>\n",
              "  </div>\n",
              "\n",
              "\n",
              "<div id=\"df-1b3c6909-36d1-445b-9b76-3d2f6636e6e8\">\n",
              "  <button class=\"colab-df-quickchart\" onclick=\"quickchart('df-1b3c6909-36d1-445b-9b76-3d2f6636e6e8')\"\n",
              "            title=\"Suggest charts\"\n",
              "            style=\"display:none;\">\n",
              "\n",
              "<svg xmlns=\"http://www.w3.org/2000/svg\" height=\"24px\"viewBox=\"0 0 24 24\"\n",
              "     width=\"24px\">\n",
              "    <g>\n",
              "        <path d=\"M19 3H5c-1.1 0-2 .9-2 2v14c0 1.1.9 2 2 2h14c1.1 0 2-.9 2-2V5c0-1.1-.9-2-2-2zM9 17H7v-7h2v7zm4 0h-2V7h2v10zm4 0h-2v-4h2v4z\"/>\n",
              "    </g>\n",
              "</svg>\n",
              "  </button>\n",
              "\n",
              "<style>\n",
              "  .colab-df-quickchart {\n",
              "      --bg-color: #E8F0FE;\n",
              "      --fill-color: #1967D2;\n",
              "      --hover-bg-color: #E2EBFA;\n",
              "      --hover-fill-color: #174EA6;\n",
              "      --disabled-fill-color: #AAA;\n",
              "      --disabled-bg-color: #DDD;\n",
              "  }\n",
              "\n",
              "  [theme=dark] .colab-df-quickchart {\n",
              "      --bg-color: #3B4455;\n",
              "      --fill-color: #D2E3FC;\n",
              "      --hover-bg-color: #434B5C;\n",
              "      --hover-fill-color: #FFFFFF;\n",
              "      --disabled-bg-color: #3B4455;\n",
              "      --disabled-fill-color: #666;\n",
              "  }\n",
              "\n",
              "  .colab-df-quickchart {\n",
              "    background-color: var(--bg-color);\n",
              "    border: none;\n",
              "    border-radius: 50%;\n",
              "    cursor: pointer;\n",
              "    display: none;\n",
              "    fill: var(--fill-color);\n",
              "    height: 32px;\n",
              "    padding: 0;\n",
              "    width: 32px;\n",
              "  }\n",
              "\n",
              "  .colab-df-quickchart:hover {\n",
              "    background-color: var(--hover-bg-color);\n",
              "    box-shadow: 0 1px 2px rgba(60, 64, 67, 0.3), 0 1px 3px 1px rgba(60, 64, 67, 0.15);\n",
              "    fill: var(--button-hover-fill-color);\n",
              "  }\n",
              "\n",
              "  .colab-df-quickchart-complete:disabled,\n",
              "  .colab-df-quickchart-complete:disabled:hover {\n",
              "    background-color: var(--disabled-bg-color);\n",
              "    fill: var(--disabled-fill-color);\n",
              "    box-shadow: none;\n",
              "  }\n",
              "\n",
              "  .colab-df-spinner {\n",
              "    border: 2px solid var(--fill-color);\n",
              "    border-color: transparent;\n",
              "    border-bottom-color: var(--fill-color);\n",
              "    animation:\n",
              "      spin 1s steps(1) infinite;\n",
              "  }\n",
              "\n",
              "  @keyframes spin {\n",
              "    0% {\n",
              "      border-color: transparent;\n",
              "      border-bottom-color: var(--fill-color);\n",
              "      border-left-color: var(--fill-color);\n",
              "    }\n",
              "    20% {\n",
              "      border-color: transparent;\n",
              "      border-left-color: var(--fill-color);\n",
              "      border-top-color: var(--fill-color);\n",
              "    }\n",
              "    30% {\n",
              "      border-color: transparent;\n",
              "      border-left-color: var(--fill-color);\n",
              "      border-top-color: var(--fill-color);\n",
              "      border-right-color: var(--fill-color);\n",
              "    }\n",
              "    40% {\n",
              "      border-color: transparent;\n",
              "      border-right-color: var(--fill-color);\n",
              "      border-top-color: var(--fill-color);\n",
              "    }\n",
              "    60% {\n",
              "      border-color: transparent;\n",
              "      border-right-color: var(--fill-color);\n",
              "    }\n",
              "    80% {\n",
              "      border-color: transparent;\n",
              "      border-right-color: var(--fill-color);\n",
              "      border-bottom-color: var(--fill-color);\n",
              "    }\n",
              "    90% {\n",
              "      border-color: transparent;\n",
              "      border-bottom-color: var(--fill-color);\n",
              "    }\n",
              "  }\n",
              "</style>\n",
              "\n",
              "  <script>\n",
              "    async function quickchart(key) {\n",
              "      const quickchartButtonEl =\n",
              "        document.querySelector('#' + key + ' button');\n",
              "      quickchartButtonEl.disabled = true;  // To prevent multiple clicks.\n",
              "      quickchartButtonEl.classList.add('colab-df-spinner');\n",
              "      try {\n",
              "        const charts = await google.colab.kernel.invokeFunction(\n",
              "            'suggestCharts', [key], {});\n",
              "      } catch (error) {\n",
              "        console.error('Error during call to suggestCharts:', error);\n",
              "      }\n",
              "      quickchartButtonEl.classList.remove('colab-df-spinner');\n",
              "      quickchartButtonEl.classList.add('colab-df-quickchart-complete');\n",
              "    }\n",
              "    (() => {\n",
              "      let quickchartButtonEl =\n",
              "        document.querySelector('#df-1b3c6909-36d1-445b-9b76-3d2f6636e6e8 button');\n",
              "      quickchartButtonEl.style.display =\n",
              "        google.colab.kernel.accessAllowed ? 'block' : 'none';\n",
              "    })();\n",
              "  </script>\n",
              "</div>\n",
              "\n",
              "    </div>\n",
              "  </div>\n"
            ],
            "application/vnd.google.colaboratory.intrinsic+json": {
              "type": "dataframe",
              "variable_name": "may1_df",
              "summary": "{\n  \"name\": \"may1_df\",\n  \"rows\": 62,\n  \"fields\": [\n    {\n      \"column\": \"created_at\",\n      \"properties\": {\n        \"dtype\": \"object\",\n        \"num_unique_values\": 62,\n        \"samples\": [\n          \"2022-04-11T13:04:37.000Z\",\n          \"2022-03-29T12:52:31.000Z\",\n          \"2022-03-31T22:35:10.000Z\"\n        ],\n        \"semantic_type\": \"\",\n        \"description\": \"\"\n      }\n    },\n    {\n      \"column\": \"full_text\",\n      \"properties\": {\n        \"dtype\": \"string\",\n        \"num_unique_values\": 60,\n        \"samples\": [\n          \"ANO TO BATAAN? YUNG SAKIN SIMPLENG PLACARD LANG PINASIKAT NYO NA? TAS ITO NANLABAG TALAGA SA BATAS WALANG AKSYON. AYUS!\\n\\nREPUBLIC ACT NO. 8491\\n\\nAN ACT PRESCRIBING THE CODE OF THE NATIONAL FLAG, ANTHEM, MOTTO, COAT-OF-ARMS AND OTHER HERALDIC ITEMS AND DEVICES OF THE PHILIPPINES\\n++ https://t.co/J9RkZQkKdV\",\n          \"@iam_bien @guillcatmd @COMELEC Please send the resibo na po.  #VRPH2022\",\n          \"READ: https://t.co/PpPuUMuzkh\\n\\n#KontraDaya\"\n        ],\n        \"semantic_type\": \"\",\n        \"description\": \"\"\n      }\n    },\n    {\n      \"column\": \"id\",\n      \"properties\": {\n        \"dtype\": \"number\",\n        \"std\": 10461030041333126,\n        \"min\": 1482521396894842881,\n        \"max\": 1520357663388823553,\n        \"num_unique_values\": 62,\n        \"samples\": [\n          1513503284069224459,\n          1508789197737725957,\n          1509660602389524521\n        ],\n        \"semantic_type\": \"\",\n        \"description\": \"\"\n      }\n    },\n    {\n      \"column\": \"url\",\n      \"properties\": {\n        \"dtype\": \"string\",\n        \"num_unique_values\": 62,\n        \"samples\": [\n          \"https://twitter.com/migrantecanada/status/1513503284069224459\",\n          \"https://twitter.com/dannyarao/status/1508789197737725957\",\n          \"https://twitter.com/NongNiko/status/1509660602389524521\"\n        ],\n        \"semantic_type\": \"\",\n        \"description\": \"\"\n      }\n    }\n  ]\n}"
            }
          },
          "metadata": {},
          "execution_count": 7
        }
      ],
      "source": [
        "may1_df.head()"
      ]
    },
    {
      "cell_type": "code",
      "execution_count": null,
      "metadata": {
        "colab": {
          "base_uri": "https://localhost:8080/",
          "height": 110
        },
        "id": "50abB_KVAREu",
        "outputId": "91747af3-8ae0-42b9-ae15-9002e7772317"
      },
      "outputs": [
        {
          "output_type": "execute_result",
          "data": {
            "text/plain": [
              "<IPython.core.display.Markdown object>"
            ],
            "text/markdown": "ANO TO BATAAN? YUNG SAKIN SIMPLENG PLACARD LANG PINASIKAT NYO NA? TAS ITO NANLABAG TALAGA SA BATAS WALANG AKSYON. AYUS!\n\nREPUBLIC ACT NO. 8491\n\nAN ACT PRESCRIBING THE CODE OF THE NATIONAL FLAG, ANTHEM, MOTTO, COAT-OF-ARMS AND OTHER HERALDIC ITEMS AND DEVICES OF THE PHILIPPINES\n++ https://t.co/J9RkZQkKdV"
          },
          "metadata": {},
          "execution_count": 8
        }
      ],
      "source": [
        "sample_text = may1_df['full_text'].iloc[may1_df['full_text'].str.len().idxmax()]\n",
        "md(sample_text)"
      ]
    },
    {
      "cell_type": "markdown",
      "metadata": {
        "id": "NgZSp_BVLb_p"
      },
      "source": [
        "# II. Define Groq Client"
      ]
    },
    {
      "cell_type": "code",
      "execution_count": null,
      "metadata": {
        "id": "bHZy75_qLg9x"
      },
      "outputs": [],
      "source": [
        "from groq import Groq   # LLM inference server (free with limits)\n",
        "import instructor"
      ]
    },
    {
      "cell_type": "markdown",
      "metadata": {
        "id": "QfmftH9nLnmn"
      },
      "source": [
        "## A. Define Client"
      ]
    },
    {
      "cell_type": "code",
      "execution_count": null,
      "metadata": {
        "id": "XeUNNbzwLmXI"
      },
      "outputs": [],
      "source": [
        "client = instructor.from_groq(\n",
        "    Groq(api_key=groq_token),\n",
        "    mode=instructor.Mode.JSON\n",
        ")"
      ]
    },
    {
      "cell_type": "markdown",
      "metadata": {
        "id": "N9L3LzowLppc"
      },
      "source": [
        "## B. Define System Prompt"
      ]
    },
    {
      "cell_type": "code",
      "execution_count": null,
      "metadata": {
        "colab": {
          "base_uri": "https://localhost:8080/",
          "height": 98
        },
        "id": "LMARnMRwLrl0",
        "outputId": "d4848b11-6a8d-4c19-b0b5-f6d0caa56bb1"
      },
      "outputs": [
        {
          "output_type": "execute_result",
          "data": {
            "text/plain": [
              "<IPython.core.display.Markdown object>"
            ],
            "text/markdown": "\nYou are a social media analyst fluent in both English and Philippine languages not just Filipino.\nHaving an extensive background in the local culture and election-related laws of the Philippines, you are familiar with Republic Act of 9006, known as AN ACT TO ENHANCE THE HOLDING OF FREE, ORDERLY, HONEST, PEACEFUL AND CREDIBLE ELECTIONS THROUGH FAIR ELECTION PRACTICE.\nTasked in monitoring election-related information, your task is to analyze tweets and extract features as requested.\n"
          },
          "metadata": {},
          "execution_count": 11
        }
      ],
      "source": [
        "system_prompt = \"\"\"\n",
        "You are a social media analyst fluent in both English and Philippine languages not just Filipino.\n",
        "Having an extensive background in the local culture and election-related laws of the Philippines, you are familiar with Republic Act of 9006, known as AN ACT TO ENHANCE THE HOLDING OF FREE, ORDERLY, HONEST, PEACEFUL AND CREDIBLE ELECTIONS THROUGH FAIR ELECTION PRACTICE.\n",
        "Tasked in monitoring election-related information, your task is to analyze tweets and extract features as requested.\n",
        "\"\"\"\n",
        "md(system_prompt)"
      ]
    },
    {
      "cell_type": "markdown",
      "metadata": {
        "id": "uJElf08SrkOm"
      },
      "source": [
        "# III. Explore Pydantic"
      ]
    },
    {
      "cell_type": "code",
      "execution_count": null,
      "metadata": {
        "id": "ujR002OgDExz"
      },
      "outputs": [],
      "source": [
        "from pydantic import BaseModel  # define schema for LLM outputs"
      ]
    },
    {
      "cell_type": "markdown",
      "metadata": {
        "id": "uVG4akYKGxn-"
      },
      "source": [
        "## A. Sample usage with Groq"
      ]
    },
    {
      "cell_type": "code",
      "execution_count": null,
      "metadata": {
        "id": "7yyTx6XwKWlf"
      },
      "outputs": [],
      "source": [
        "class ExtractUser(BaseModel):\n",
        "    name: str\n",
        "    age: int"
      ]
    },
    {
      "cell_type": "code",
      "execution_count": null,
      "metadata": {
        "colab": {
          "base_uri": "https://localhost:8080/"
        },
        "id": "hxDVrMAvDCtS",
        "outputId": "ffd743e1-08e8-407d-90b8-14ed76b20857"
      },
      "outputs": [
        {
          "output_type": "stream",
          "name": "stdout",
          "text": [
            "Jason is 25 years old.\n"
          ]
        }
      ],
      "source": [
        "response = client.chat.completions.create(\n",
        "    model=\"llama3-70b-8192\",\n",
        "    response_model=ExtractUser,\n",
        "    messages=[{\"role\": \"user\", \"content\": \"Extract Jason is 25 years old.\"}],\n",
        ")\n",
        "\n",
        "print(f\"{response.name} is {response.age} years old.\")"
      ]
    },
    {
      "cell_type": "markdown",
      "metadata": {
        "id": "Cp-lwV31Du7R"
      },
      "source": [
        "## B. Define Enumerations"
      ]
    },
    {
      "cell_type": "code",
      "execution_count": null,
      "metadata": {
        "id": "4sCPlowlDyuu"
      },
      "outputs": [],
      "source": [
        "from datetime import datetime\n",
        "from enum import Enum\n",
        "import json\n",
        "from pydantic import Field"
      ]
    },
    {
      "cell_type": "code",
      "execution_count": null,
      "metadata": {
        "id": "OvXtjYkFDXIU"
      },
      "outputs": [],
      "source": [
        "class Violation(Enum):\n",
        "    IMPROPER_LABELING = \"Improper labeling of campaign materials\"\n",
        "    MEDIA_PORTRAYAL = \"Portrayal of candidate in movie, documentary, concert etc.\",\n",
        "    MATERIAL_TOO_BIG = \"Campaign materials in excess of the size, duration or frequency\"\n",
        "    FALSE_PROPAGANDA = \"False/misleading online campaign propaganda\"\n",
        "    BLACK_PROPAGANDA = \"Black Propaganda\"\n",
        "    OFFENSIVE_MATERIAL = \"Offensive Campaign Material\"\n",
        "    UNAUTHORIZED_DISPLAY = \"Campaign Materials Displayed in Unauthorized Areas\"\n",
        "    NONCOMPLIANCE_WITH_HEALTH = \"Non-compliance with Health Protocols\"\n",
        "    CAMPAIGNING_OUTSIDE_ALLOWED_PERIOD = \"Campaigning during prohibited period\"\n",
        "    OTHER = \"Information not available\"\n",
        "\n",
        "class Fraud(Enum):\n",
        "    PCOS_ERROR = \"PCOS Errors\"\n",
        "    REJECTED_BALLOTS = \"Rejected ballots\"\n",
        "    BEI_PROCEDURES = \"BEI Procedures\"\n",
        "    ELECTION_PARAPHERNALIA = \"Election Paraphernalia\"\n",
        "    VOTER_HARASSMENT = \"Harassment of voters\"\n",
        "    TRANSMISSION_PROBLEMS = \"Transmission problems\"\n",
        "    DISENFRANCHISEMENT = \"Disenfranchisement\"\n",
        "    ELECTIONEERING = \"Electioneering\"\n",
        "    POWER_INTERRUPTION = \"Power interruption\"\n",
        "    VOTERS_LIST = \"Voters list\"\n",
        "    TRADITIONAL_FRAUD = \"Traditional fraud\"\n",
        "    FTS_PCOS_PROBLEMS = \"FTS – PCOS problems\"\n",
        "    VOTE_BUYING = \"Vote-buying\"\n",
        "    ELECTION_VIOLENCE = \"Election violence\"\n",
        "    ELECTION_PROCESS = \"Election process\"\n",
        "    DELAYED_VOTING = \"Delayed voting\"\n",
        "    FTS_LACK_OF_MATERIALS = \"FTS – lack of materials\"\n",
        "    MANUAL_COUNTING = \"Manual counting\"\n",
        "    FTS_BEI_PROCEDURES = \"FTS – BEI Procedures\"\n",
        "    CANVASSING_PROBLEMS = \"Canvassing Problems\"\n",
        "    CLUSTERED_PRECINCTS = \"Clustered Precincts\"\n",
        "    CF_CARDS = \"CF Cards\"\n",
        "    BLACK_PROPAGANDA = \"Black propaganda\"\n",
        "    FAILURE_OF_ELECTION = \"Failure of election\"\n",
        "    ELECTION_RETURNS = \"Election returns\"\n",
        "    FTS_OTHERS = \"FTS – Others\"\n",
        "    FTS_MILITARY_PRESENCE = \"FTS – Military presence\"\n",
        "    FTS_POWER_OUTAGE = \"FTS – power outage\"\n",
        "    PRE_SHADED_BALLOTS = \"Pre-shaded ballots\"\n",
        "    OTHER = \"Information not available\"\n",
        "\n",
        "class ExtractInfo(BaseModel):\n",
        "    topic: str = Field(description=\"The main topic of the text.\")\n",
        "    tone: str = Field(description=\"Emotional tone or context of the text.\")\n",
        "    spam: bool = Field(description=\"Whether the text is likely spam.\")\n",
        "    location: str = Field(description=\"Physical location or place the text refers to.\")\n",
        "    date: datetime = Field(description=\"Date associated with the text.\")\n",
        "    campaign_violations: Violation = Field(description=\"Any campaign-related violations highlighted in the text.\")\n",
        "    observed_fraud: Fraud = Field(description=\"Any observed fraudulent activity in the text.\")\n",
        "\n",
        "    def __str__(self) -> str:\n",
        "        return json.dumps(self.model_dump(), default=str, indent=4)"
      ]
    },
    {
      "cell_type": "code",
      "execution_count": null,
      "metadata": {
        "colab": {
          "base_uri": "https://localhost:8080/"
        },
        "id": "xEVjrmBZDxOq",
        "outputId": "b79bb647-a8f7-4625-e3a8-4c3622931e29"
      },
      "outputs": [
        {
          "output_type": "stream",
          "name": "stdout",
          "text": [
            "{\n",
            "    \"topic\": \"Election Campaign Violation\",\n",
            "    \"tone\": \"Angry\",\n",
            "    \"spam\": false,\n",
            "    \"location\": \"Bataan\",\n",
            "    \"date\": \"2022-01-01 00:00:00\",\n",
            "    \"campaign_violations\": \"Violation.MATERIAL_TOO_BIG\",\n",
            "    \"observed_fraud\": \"Fraud.OTHER\"\n",
            "}\n"
          ]
        }
      ],
      "source": [
        "response = client.chat.completions.create(\n",
        "    model=\"llama3-70b-8192\",\n",
        "    response_model=ExtractInfo,\n",
        "    messages=[\n",
        "        #{\"role\": \"system\", \"content\": system_prompt},\n",
        "        {\"role\": \"user\", \"content\": f\"Extract: {sample_text}\"},\n",
        "    ],\n",
        ")\n",
        "print(response)"
      ]
    },
    {
      "cell_type": "code",
      "execution_count": null,
      "metadata": {
        "colab": {
          "base_uri": "https://localhost:8080/",
          "height": 54
        },
        "id": "dDpdkARuEC1b",
        "outputId": "f46f0ebc-4ae4-4bc0-a6d1-228cef3b745b"
      },
      "outputs": [
        {
          "output_type": "execute_result",
          "data": {
            "text/plain": [
              "'ANO TO BATAAN? YUNG SAKIN SIMPLENG PLACARD LANG PINASIKAT NYO NA? TAS ITO NANLABAG TALAGA SA BATAS WALANG AKSYON. AYUS!\\n\\nREPUBLIC ACT NO. 8491\\n\\nAN ACT PRESCRIBING THE CODE OF THE NATIONAL FLAG, ANTHEM, MOTTO, COAT-OF-ARMS AND OTHER HERALDIC ITEMS AND DEVICES OF THE PHILIPPINES\\n++ https://t.co/J9RkZQkKdV'"
            ],
            "application/vnd.google.colaboratory.intrinsic+json": {
              "type": "string"
            }
          },
          "metadata": {},
          "execution_count": 19
        }
      ],
      "source": [
        "sample_text"
      ]
    },
    {
      "cell_type": "markdown",
      "metadata": {
        "id": "IGagpdK2MvE8"
      },
      "source": [
        "## C. Robust Categorization"
      ]
    },
    {
      "cell_type": "code",
      "execution_count": null,
      "metadata": {
        "id": "P7w87tNFLCtv"
      },
      "outputs": [],
      "source": [
        "from typing import Annotated, Literal, Union\n",
        "from fuzzywuzzy import process as fuzzy_process\n",
        "from pydantic import BeforeValidator"
      ]
    },
    {
      "cell_type": "code",
      "execution_count": null,
      "metadata": {
        "id": "XNgS81RdMyA4"
      },
      "outputs": [],
      "source": [
        "class ViolationType(str, Enum):\n",
        "    IMPROPER_LABELING = \"Improper labeling of campaign materials\"\n",
        "    MEDIA_PORTRAYAL = \"Portrayal of candidate in movie, documentary, concert etc.\",\n",
        "    MATERIAL_TOO_BIG = \"Campaign materials in excess of the size, duration or frequency\"\n",
        "    FALSE_PROPAGANDA = \"False/misleading online campaign propaganda\"\n",
        "    BLACK_PROPAGANDA = \"Black Propaganda\"\n",
        "    OFFENSIVE_MATERIAL = \"Offensive Campaign Material\"\n",
        "    UNAUTHORIZED_DISPLAY = \"Campaign Materials Displayed in Unauthorized Areas\"\n",
        "    NONCOMPLIANCE_WITH_HEALTH = \"Non-compliance with Health Protocols\"\n",
        "    CAMPAIGNING_OUTSIDE_ALLOWED_PERIOD = \"Campaigning during prohibited period\"\n",
        "    OTHER = \"Information not available\"\n",
        "\n",
        "class FraudType(str, Enum):\n",
        "    PCOS_ERROR = \"PCOS Errors\"\n",
        "    REJECTED_BALLOTS = \"Rejected ballots\"\n",
        "    BEI_PROCEDURES = \"BEI Procedures\"\n",
        "    ELECTION_PARAPHERNALIA = \"Election Paraphernalia\"\n",
        "    VOTER_HARASSMENT = \"Harassment of voters\"\n",
        "    TRANSMISSION_PROBLEMS = \"Transmission problems\"\n",
        "    DISENFRANCHISEMENT = \"Disenfranchisement\"\n",
        "    ELECTIONEERING = \"Electioneering\"\n",
        "    POWER_INTERRUPTION = \"Power interruption\"\n",
        "    VOTERS_LIST = \"Voters list\"\n",
        "    TRADITIONAL_FRAUD = \"Traditional fraud\"\n",
        "    FTS_PCOS_PROBLEMS = \"FTS – PCOS problems\"\n",
        "    VOTE_BUYING = \"Vote-buying\"\n",
        "    ELECTION_VIOLENCE = \"Election violence\"\n",
        "    ELECTION_PROCESS = \"Election process\"\n",
        "    DELAYED_VOTING = \"Delayed voting\"\n",
        "    FTS_LACK_OF_MATERIALS = \"FTS – lack of materials\"\n",
        "    MANUAL_COUNTING = \"Manual counting\"\n",
        "    FTS_BEI_PROCEDURES = \"FTS – BEI Procedures\"\n",
        "    CANVASSING_PROBLEMS = \"Canvassing Problems\"\n",
        "    CLUSTERED_PRECINCTS = \"Clustered Precincts\"\n",
        "    CF_CARDS = \"CF Cards\"\n",
        "    BLACK_PROPAGANDA = \"Black propaganda\"\n",
        "    FAILURE_OF_ELECTION = \"Failure of election\"\n",
        "    ELECTION_RETURNS = \"Election returns\"\n",
        "    FTS_OTHERS = \"FTS – Others\"\n",
        "    FTS_MILITARY_PRESENCE = \"FTS – Military presence\"\n",
        "    FTS_POWER_OUTAGE = \"FTS – power outage\"\n",
        "    PRE_SHADED_BALLOTS = \"Pre-shaded ballots\"\n",
        "    OTHER = \"Information not available\"\n",
        "\n",
        "class Violation(BaseModel):\n",
        "    def convert_str_to_violation_name(v: str | ViolationType) -> ViolationType:\n",
        "        if isinstance(v, ViolationType):\n",
        "            return v\n",
        "        else:\n",
        "            try:\n",
        "                match, score = fuzzy_process.extractOne(v.upper(), [e.value for e in list(ViolationType)])\n",
        "                return ViolationType(match) if score >= 60 else ViolationType.OTHER\n",
        "            except ValueError:\n",
        "                return ViolationType.OTHER\n",
        "\n",
        "    violation_type: Annotated[str, BeforeValidator(convert_str_to_violation_name)]\n",
        "    violation_mention: str = Field(description=\"A recognized instance of a campaign violation.\")\n",
        "\n",
        "class Fraud(BaseModel):\n",
        "    def convert_str_to_fraud_name(v: str | FraudType) -> FraudType:\n",
        "        if isinstance(v, FraudType):\n",
        "            return v\n",
        "        else:\n",
        "            try:\n",
        "                match, score = fuzzy_process.extractOne(v.upper(), [e.value for e in list(FraudType)])\n",
        "                return FraudType(match) if score >= 60 else FraudType.OTHER\n",
        "            except ValueError:\n",
        "                return FraudType.OTHER\n",
        "\n",
        "    fraud_type: Annotated[str, BeforeValidator(convert_str_to_fraud_name)]\n",
        "    fraud_mention: str = Field(description=\"A recognized instance of campaign-related fraudulent activity.\")\n",
        "\n",
        "class ExtractInfo(BaseModel):\n",
        "    topic: str = Field(description=\"The main topic of the text.\")\n",
        "    tone: str = Field(description=\"Emotional tone or context of the text.\")\n",
        "    spam: bool = Field(description=\"Whether the text is likely spam.\")\n",
        "    location: Union[str, Literal[\"Information not available\"]] = Field(description=\"Physical location or place the text refers to.\")\n",
        "    date: Union[datetime, Literal[\"Information not available\"]] = Field(description=\"Any date that is in the text\")\n",
        "    campaign_violations: list[Violation] = Field(description=\"Any campaign-related violations, according to Republic Act. 9006, highlighted in the text.\")\n",
        "    observed_fraud: list[Fraud] = Field(description=\"Any observed campaign-related fraudulent activity in the text.\")\n",
        "\n",
        "    def __str__(self) -> str:\n",
        "        return json.dumps(self.model_dump(), default=str, indent=4)"
      ]
    },
    {
      "cell_type": "code",
      "execution_count": null,
      "metadata": {
        "colab": {
          "base_uri": "https://localhost:8080/"
        },
        "id": "YVhSJ_iaOr5b",
        "outputId": "68b6f70f-9bf8-48b1-a881-fb7de78e1791"
      },
      "outputs": [
        {
          "output_type": "stream",
          "name": "stdout",
          "text": [
            "{\n",
            "    \"topic\": \"Election Campaign Violation\",\n",
            "    \"tone\": \"Angry\",\n",
            "    \"spam\": false,\n",
            "    \"location\": \"Bataan\",\n",
            "    \"date\": \"Information not available\",\n",
            "    \"campaign_violations\": [\n",
            "        {\n",
            "            \"violation_type\": \"False/misleading online campaign propaganda\",\n",
            "            \"violation_mention\": \"Pinasikat ng placard\"\n",
            "        }\n",
            "    ],\n",
            "    \"observed_fraud\": []\n",
            "}\n"
          ]
        }
      ],
      "source": [
        "response = client.chat.completions.create(\n",
        "    model=\"llama3-70b-8192\",\n",
        "    response_model=ExtractInfo,\n",
        "    messages=[\n",
        "        {\"role\": \"system\", \"content\": system_prompt},\n",
        "        {\"role\": \"user\", \"content\": f\"Extract: {sample_text}\"},\n",
        "    ],\n",
        "    temperature=0\n",
        ")\n",
        "\n",
        "print(response)"
      ]
    },
    {
      "cell_type": "markdown",
      "metadata": {
        "id": "tZuVpdTHPri6"
      },
      "source": [
        "# IV. Create Function to Extract Tweet Features as JSON/Dictionary\n"
      ]
    },
    {
      "cell_type": "markdown",
      "metadata": {
        "id": "v8DVZsXB43LQ"
      },
      "source": [
        "## A. `VRPH_Tweet_FeatureExtractor` for single tweets"
      ]
    },
    {
      "cell_type": "code",
      "execution_count": null,
      "metadata": {
        "id": "IQnesPelO-x8"
      },
      "outputs": [],
      "source": [
        "def VRPH_Tweet_FeatureExtractor(\n",
        "    client,\n",
        "    model,\n",
        "    response_model,\n",
        "    system_prompt,\n",
        "    tweet_text,\n",
        "    temperature=0\n",
        "):\n",
        "  \"\"\"Extracts features from a tweet using a Large Language Model (LLM).\n",
        "\n",
        "  This function sends a tweet text to an LLM for analysis,\n",
        "  requesting it to extract relevant features based on a predefined schema.\n",
        "  It utilizes the provided client, model, and system prompt for interaction\n",
        "  with the LLM.\n",
        "\n",
        "  Args:\n",
        "      client: The LLM client object (e.g., from Groq or instructor library).\n",
        "      model: The name of the LLM model to use (e.g., \"llama3-70b-8192\").\n",
        "      response_model: The Pydantic model defining the expected output structure.\n",
        "      system_prompt: The overall instructions for the LLM (e.g., persona, task).\n",
        "      tweet_text: The text content of the tweet to analyze.\n",
        "\n",
        "  Returns:\n",
        "      An instance of the `response_model` containing the extracted features.\n",
        "      This could be a Pydantic model like `ExtractInfo` with fields like topic,\n",
        "      tone, spam, location, date, campaign violations, and observed fraud.\n",
        "  \"\"\"\n",
        "  response = client.chat.completions.create(\n",
        "      model=model,\n",
        "      response_model=response_model,\n",
        "      messages=[\n",
        "          {\n",
        "              \"role\": \"system\",\n",
        "              \"content\": system_prompt\n",
        "              },\n",
        "          {\n",
        "              \"role\": \"user\",\n",
        "              \"content\": f\"Extract: {tweet_text}\"\n",
        "              },\n",
        "          ],\n",
        "      temperature=temperature,\n",
        "      )\n",
        "\n",
        "  return response"
      ]
    },
    {
      "cell_type": "code",
      "execution_count": null,
      "metadata": {
        "id": "8iSdC6FZQBmr",
        "colab": {
          "base_uri": "https://localhost:8080/"
        },
        "outputId": "77788c11-2074-4682-f8f7-08513c1cf35c"
      },
      "outputs": [
        {
          "output_type": "stream",
          "name": "stdout",
          "text": [
            "Input Tweet:\n",
            " ANO TO BATAAN? YUNG SAKIN SIMPLENG PLACARD LANG PINASIKAT NYO NA? TAS ITO NANLABAG TALAGA SA BATAS WALANG AKSYON. AYUS!\n",
            "\n",
            "REPUBLIC ACT NO. 8491\n",
            "\n",
            "AN ACT PRESCRIBING THE CODE OF THE NATIONAL FLAG, ANTHEM, MOTTO, COAT-OF-ARMS AND OTHER HERALDIC ITEMS AND DEVICES OF THE PHILIPPINES\n",
            "++ https://t.co/J9RkZQkKdV\n",
            "\n",
            "\n",
            "Extracted Features:\n",
            " {\n",
            "    \"topic\": \"Election-related issue\",\n",
            "    \"tone\": \"Angry\",\n",
            "    \"spam\": false,\n",
            "    \"location\": \"Bataan\",\n",
            "    \"date\": \"Information not available\",\n",
            "    \"campaign_violations\": [\n",
            "        {\n",
            "            \"violation_type\": \"Improper labeling of campaign materials\",\n",
            "            \"violation_mention\": \"Pinasikat nyo na ang placard\"\n",
            "        },\n",
            "        {\n",
            "            \"violation_type\": \"Information not available\",\n",
            "            \"violation_mention\": \"Walang aksyon sa batas\"\n",
            "        }\n",
            "    ],\n",
            "    \"observed_fraud\": []\n",
            "}\n"
          ]
        }
      ],
      "source": [
        "client = instructor.from_groq(\n",
        "    Groq(api_key=groq_token),\n",
        "    mode=instructor.Mode.JSON\n",
        ")\n",
        "\n",
        "tweet_features_json = VRPH_Tweet_FeatureExtractor(\n",
        "    client=client,\n",
        "    model=\"meta-llama/llama-4-scout-17b-16e-instruct\",\n",
        "    response_model=ExtractInfo,\n",
        "    system_prompt=system_prompt,\n",
        "    tweet_text=sample_text\n",
        ")\n",
        "\n",
        "print(f\"Input Tweet:\\n {sample_text}\\n\\n\")\n",
        "print(f\"Extracted Features:\\n {tweet_features_json}\")"
      ]
    },
    {
      "cell_type": "markdown",
      "metadata": {
        "id": "-dhjDYnH43LQ"
      },
      "source": [
        "## B. Apply on DataFrame of May 1 Elections"
      ]
    },
    {
      "cell_type": "code",
      "execution_count": null,
      "metadata": {
        "id": "v4SqwgHn43LQ"
      },
      "outputs": [],
      "source": [
        "import os\n",
        "import time\n",
        "import json\n",
        "import pandas as pd\n",
        "from tqdm.autonotebook import tqdm\n",
        "from typing import Callable, Type"
      ]
    },
    {
      "cell_type": "code",
      "execution_count": null,
      "metadata": {
        "id": "4pcVeSTg43LQ"
      },
      "outputs": [],
      "source": [
        "class Tweet_FeatureExtraction_Pipeline:\n",
        "    def __init__(\n",
        "        self,\n",
        "        extractor_fn: Callable[..., any],\n",
        "        client,\n",
        "        model: str,\n",
        "        response_model: Type[BaseModel],\n",
        "        system_prompt: str,\n",
        "        tweet_column: str = \"tweet_text\",\n",
        "        sleep_time: float = 1.0,\n",
        "    ):\n",
        "        \"\"\"\n",
        "        Args:\n",
        "            extractor_fn: function to call for each tweet (e.g. VRPH_Tweet_FeatureExtractor)\n",
        "            client: LLM client (e.g. instructor.from_groq(...))\n",
        "            model: name of the LLM model\n",
        "            response_model: Pydantic model class (e.g. ExtractInfo)\n",
        "            system_prompt: instructions for the LLM\n",
        "            tweet_column: name of the column in your DF containing the tweet text\n",
        "            sleep_time: seconds to sleep between requests\n",
        "        \"\"\"\n",
        "        self.extractor_fn   = extractor_fn\n",
        "        self.client         = client\n",
        "        self.model          = model\n",
        "        self.response_model = response_model\n",
        "        self.system_prompt  = system_prompt\n",
        "        self.tweet_column   = tweet_column\n",
        "        self.sleep_time     = sleep_time\n",
        "\n",
        "        # derive output fields from the Pydantic model, plus an \"error\" column\n",
        "        self.new_columns = list(self.response_model.model_fields.keys()) + [\"error\"]\n",
        "\n",
        "    def feature_extract(\n",
        "        self,\n",
        "        df: pd.DataFrame,\n",
        "        output_csv: str,\n",
        "        resume: bool = True\n",
        "    ) -> pd.DataFrame:\n",
        "        \"\"\"\n",
        "        Runs feature extraction on every row of df and writes to output_csv.\n",
        "\n",
        "        If resume=True and output_csv exists, loads it and continues at the first\n",
        "        row where the first new_column is null.\n",
        "        \"\"\"\n",
        "        # — prepare output DataFrame\n",
        "        if resume and os.path.exists(output_csv):\n",
        "            out_df = pd.read_csv(output_csv)\n",
        "        else:\n",
        "            out_df = df.copy()\n",
        "            for col in self.new_columns:\n",
        "                out_df[col] = None\n",
        "\n",
        "        # — find where to start (first null in the first response field)\n",
        "        first_field = self.new_columns[0]\n",
        "        null_mask   = out_df[first_field].isna()\n",
        "        if null_mask.any():\n",
        "            start_idx = int(null_mask.idxmax())\n",
        "        else:\n",
        "            print(\"All rows already processed.\")\n",
        "            return out_df\n",
        "\n",
        "        # — iterate with tqdm\n",
        "        for idx in tqdm(range(start_idx, len(out_df)), desc=\"Extracting tweet features\", unit='tweet'):\n",
        "            text = out_df.at[idx, self.tweet_column]\n",
        "            try:\n",
        "                resp = self.extractor_fn(\n",
        "                    client=self.client,\n",
        "                    model=self.model,\n",
        "                    response_model=self.response_model,\n",
        "                    system_prompt=self.system_prompt,\n",
        "                    tweet_text=text,\n",
        "                    temperature=0\n",
        "                )\n",
        "                # normalize to dict\n",
        "                if hasattr(resp, \"model_dump\"):\n",
        "                    data = resp.model_dump()\n",
        "                else:\n",
        "                    data = resp if isinstance(resp, dict) else json.loads(resp.json())\n",
        "\n",
        "                # fill each field dynamically\n",
        "                for field in self.response_model.model_fields:\n",
        "                    value = data.get(field)\n",
        "                    # for list-of-dicts, store as JSON string\n",
        "                    if isinstance(value, (list, dict)):\n",
        "                        out_df.at[idx, field] = json.dumps(value)\n",
        "                    else:\n",
        "                        out_df.at[idx, field] = value\n",
        "\n",
        "                out_df.at[idx, \"error\"] = None\n",
        "\n",
        "            except Exception as e:\n",
        "                out_df.at[idx, \"error\"] = str(e)\n",
        "\n",
        "            # save progress after each row\n",
        "            out_df.to_csv(output_csv, index=False)\n",
        "            time.sleep(self.sleep_time)\n",
        "\n",
        "        return out_df\n"
      ]
    },
    {
      "cell_type": "code",
      "execution_count": null,
      "metadata": {
        "colab": {
          "base_uri": "https://localhost:8080/",
          "height": 430,
          "referenced_widgets": [
            "0a80791f28b64c6c99f6eb911a6fcd9a",
            "702c7fdfdb4c4bc68e8f106318f456a2",
            "72cc099088384868900efcdb3b351727",
            "c2443ccf7ad443f885bdbd1689828435",
            "ce2cae3250f440839b2250100f5cdec5",
            "5ccbd5ef944446579f9dcc6fc7a8fcb1",
            "bbc40ad9950c4489aea17c58f5766969",
            "7e83d16d8bc741da8aa65a5eaaaf4c00",
            "b9ee4a2ba1a945298d9e3558f96d1288",
            "4e0718159bab4b75a8832a22207c0967",
            "667774709094495eaeabe82621cd3095"
          ]
        },
        "id": "kfewQN2X43LU",
        "outputId": "b379d8e3-b571-4778-8b5e-80f1bdb975ac"
      },
      "outputs": [
        {
          "output_type": "display_data",
          "data": {
            "text/plain": [
              "Extracting tweet features:   0%|          | 0/62 [00:00<?, ?tweet/s]"
            ],
            "application/vnd.jupyter.widget-view+json": {
              "version_major": 2,
              "version_minor": 0,
              "model_id": "0a80791f28b64c6c99f6eb911a6fcd9a"
            }
          },
          "metadata": {}
        },
        {
          "output_type": "stream",
          "name": "stdout",
          "text": [
            "<class 'pandas.core.frame.DataFrame'>\n",
            "RangeIndex: 62 entries, 0 to 61\n",
            "Data columns (total 12 columns):\n",
            " #   Column               Non-Null Count  Dtype \n",
            "---  ------               --------------  ----- \n",
            " 0   created_at           62 non-null     object\n",
            " 1   full_text            62 non-null     object\n",
            " 2   id                   62 non-null     int64 \n",
            " 3   url                  62 non-null     object\n",
            " 4   topic                62 non-null     object\n",
            " 5   tone                 62 non-null     object\n",
            " 6   spam                 62 non-null     object\n",
            " 7   location             62 non-null     object\n",
            " 8   date                 62 non-null     object\n",
            " 9   campaign_violations  62 non-null     object\n",
            " 10  observed_fraud       62 non-null     object\n",
            " 11  error                0 non-null      object\n",
            "dtypes: int64(1), object(11)\n",
            "memory usage: 5.9+ KB\n",
            "CPU times: user 2.99 s, sys: 345 ms, total: 3.34 s\n",
            "Wall time: 6min 52s\n"
          ]
        }
      ],
      "source": [
        "%%time\n",
        "pipeline = Tweet_FeatureExtraction_Pipeline(\n",
        "    extractor_fn=VRPH_Tweet_FeatureExtractor,\n",
        "    client=client,\n",
        "    model=\"meta-llama/llama-4-scout-17b-16e-instruct\",\n",
        "    response_model=ExtractInfo,\n",
        "    system_prompt=system_prompt,\n",
        "    tweet_column=\"full_text\",\n",
        "    sleep_time=4.0,\n",
        ")\n",
        "\n",
        "output_df = pipeline.feature_extract(\n",
        "    df=may1_df,\n",
        "    output_csv=f'{VRPH_fdir}/Data/Output/2022_05_01_TweetFeatures.csv',\n",
        "    resume=True\n",
        ")\n",
        "output_df.info()"
      ]
    },
    {
      "cell_type": "code",
      "execution_count": null,
      "metadata": {
        "id": "UAoydflL43LU",
        "outputId": "d6a1da23-8385-41b0-bc26-1863d24a3e97"
      },
      "outputs": [
        {
          "data": {
            "text/plain": [
              "tone\n",
              "Neutral                17\n",
              "Informative             5\n",
              "Concerned               4\n",
              "Inquiry                 3\n",
              "neutral                 3\n",
              "informative             3\n",
              "Critical                3\n",
              "Warning                 2\n",
              "Call to Action          2\n",
              "Angry                   1\n",
              "critical                1\n",
              "neutral/informative     1\n",
              "Concerned/Urgent        1\n",
              "Cautionary              1\n",
              "Suspicious              1\n",
              "Neutral/Inquiry         1\n",
              "Neutral/Informative     1\n",
              "Informative/Urgent      1\n",
              "Urgent/Alarm            1\n",
              "excited                 1\n",
              "Neutral/Inquiring       1\n",
              "defensive               1\n",
              "Anger/Frustration       1\n",
              "Positive                1\n",
              "Outrage                 1\n",
              "Neutral/Positive        1\n",
              "encouragement           1\n",
              "inquiry                 1\n",
              "Neutral/Humorous        1\n",
              "Name: count, dtype: int64"
            ]
          },
          "execution_count": 38,
          "metadata": {},
          "output_type": "execute_result"
        }
      ],
      "source": [
        "output_df['tone'].value_counts()"
      ]
    },
    {
      "cell_type": "code",
      "execution_count": null,
      "metadata": {
        "id": "Op2Q5WhE43LU"
      },
      "outputs": [],
      "source": []
    }
  ],
  "metadata": {
    "colab": {
      "provenance": []
    },
    "kernelspec": {
      "display_name": "Python 3 (ipykernel)",
      "language": "python",
      "name": "python3"
    },
    "language_info": {
      "codemirror_mode": {
        "name": "ipython",
        "version": 3
      },
      "file_extension": ".py",
      "mimetype": "text/x-python",
      "name": "python",
      "nbconvert_exporter": "python",
      "pygments_lexer": "ipython3",
      "version": "3.11.8"
    },
    "widgets": {
      "application/vnd.jupyter.widget-state+json": {
        "0a80791f28b64c6c99f6eb911a6fcd9a": {
          "model_module": "@jupyter-widgets/controls",
          "model_name": "HBoxModel",
          "model_module_version": "1.5.0",
          "state": {
            "_dom_classes": [],
            "_model_module": "@jupyter-widgets/controls",
            "_model_module_version": "1.5.0",
            "_model_name": "HBoxModel",
            "_view_count": null,
            "_view_module": "@jupyter-widgets/controls",
            "_view_module_version": "1.5.0",
            "_view_name": "HBoxView",
            "box_style": "",
            "children": [
              "IPY_MODEL_702c7fdfdb4c4bc68e8f106318f456a2",
              "IPY_MODEL_72cc099088384868900efcdb3b351727",
              "IPY_MODEL_c2443ccf7ad443f885bdbd1689828435"
            ],
            "layout": "IPY_MODEL_ce2cae3250f440839b2250100f5cdec5"
          }
        },
        "702c7fdfdb4c4bc68e8f106318f456a2": {
          "model_module": "@jupyter-widgets/controls",
          "model_name": "HTMLModel",
          "model_module_version": "1.5.0",
          "state": {
            "_dom_classes": [],
            "_model_module": "@jupyter-widgets/controls",
            "_model_module_version": "1.5.0",
            "_model_name": "HTMLModel",
            "_view_count": null,
            "_view_module": "@jupyter-widgets/controls",
            "_view_module_version": "1.5.0",
            "_view_name": "HTMLView",
            "description": "",
            "description_tooltip": null,
            "layout": "IPY_MODEL_5ccbd5ef944446579f9dcc6fc7a8fcb1",
            "placeholder": "​",
            "style": "IPY_MODEL_bbc40ad9950c4489aea17c58f5766969",
            "value": "Extracting tweet features: 100%"
          }
        },
        "72cc099088384868900efcdb3b351727": {
          "model_module": "@jupyter-widgets/controls",
          "model_name": "FloatProgressModel",
          "model_module_version": "1.5.0",
          "state": {
            "_dom_classes": [],
            "_model_module": "@jupyter-widgets/controls",
            "_model_module_version": "1.5.0",
            "_model_name": "FloatProgressModel",
            "_view_count": null,
            "_view_module": "@jupyter-widgets/controls",
            "_view_module_version": "1.5.0",
            "_view_name": "ProgressView",
            "bar_style": "success",
            "description": "",
            "description_tooltip": null,
            "layout": "IPY_MODEL_7e83d16d8bc741da8aa65a5eaaaf4c00",
            "max": 62,
            "min": 0,
            "orientation": "horizontal",
            "style": "IPY_MODEL_b9ee4a2ba1a945298d9e3558f96d1288",
            "value": 62
          }
        },
        "c2443ccf7ad443f885bdbd1689828435": {
          "model_module": "@jupyter-widgets/controls",
          "model_name": "HTMLModel",
          "model_module_version": "1.5.0",
          "state": {
            "_dom_classes": [],
            "_model_module": "@jupyter-widgets/controls",
            "_model_module_version": "1.5.0",
            "_model_name": "HTMLModel",
            "_view_count": null,
            "_view_module": "@jupyter-widgets/controls",
            "_view_module_version": "1.5.0",
            "_view_name": "HTMLView",
            "description": "",
            "description_tooltip": null,
            "layout": "IPY_MODEL_4e0718159bab4b75a8832a22207c0967",
            "placeholder": "​",
            "style": "IPY_MODEL_667774709094495eaeabe82621cd3095",
            "value": " 62/62 [06:52&lt;00:00,  5.70s/tweet]"
          }
        },
        "ce2cae3250f440839b2250100f5cdec5": {
          "model_module": "@jupyter-widgets/base",
          "model_name": "LayoutModel",
          "model_module_version": "1.2.0",
          "state": {
            "_model_module": "@jupyter-widgets/base",
            "_model_module_version": "1.2.0",
            "_model_name": "LayoutModel",
            "_view_count": null,
            "_view_module": "@jupyter-widgets/base",
            "_view_module_version": "1.2.0",
            "_view_name": "LayoutView",
            "align_content": null,
            "align_items": null,
            "align_self": null,
            "border": null,
            "bottom": null,
            "display": null,
            "flex": null,
            "flex_flow": null,
            "grid_area": null,
            "grid_auto_columns": null,
            "grid_auto_flow": null,
            "grid_auto_rows": null,
            "grid_column": null,
            "grid_gap": null,
            "grid_row": null,
            "grid_template_areas": null,
            "grid_template_columns": null,
            "grid_template_rows": null,
            "height": null,
            "justify_content": null,
            "justify_items": null,
            "left": null,
            "margin": null,
            "max_height": null,
            "max_width": null,
            "min_height": null,
            "min_width": null,
            "object_fit": null,
            "object_position": null,
            "order": null,
            "overflow": null,
            "overflow_x": null,
            "overflow_y": null,
            "padding": null,
            "right": null,
            "top": null,
            "visibility": null,
            "width": null
          }
        },
        "5ccbd5ef944446579f9dcc6fc7a8fcb1": {
          "model_module": "@jupyter-widgets/base",
          "model_name": "LayoutModel",
          "model_module_version": "1.2.0",
          "state": {
            "_model_module": "@jupyter-widgets/base",
            "_model_module_version": "1.2.0",
            "_model_name": "LayoutModel",
            "_view_count": null,
            "_view_module": "@jupyter-widgets/base",
            "_view_module_version": "1.2.0",
            "_view_name": "LayoutView",
            "align_content": null,
            "align_items": null,
            "align_self": null,
            "border": null,
            "bottom": null,
            "display": null,
            "flex": null,
            "flex_flow": null,
            "grid_area": null,
            "grid_auto_columns": null,
            "grid_auto_flow": null,
            "grid_auto_rows": null,
            "grid_column": null,
            "grid_gap": null,
            "grid_row": null,
            "grid_template_areas": null,
            "grid_template_columns": null,
            "grid_template_rows": null,
            "height": null,
            "justify_content": null,
            "justify_items": null,
            "left": null,
            "margin": null,
            "max_height": null,
            "max_width": null,
            "min_height": null,
            "min_width": null,
            "object_fit": null,
            "object_position": null,
            "order": null,
            "overflow": null,
            "overflow_x": null,
            "overflow_y": null,
            "padding": null,
            "right": null,
            "top": null,
            "visibility": null,
            "width": null
          }
        },
        "bbc40ad9950c4489aea17c58f5766969": {
          "model_module": "@jupyter-widgets/controls",
          "model_name": "DescriptionStyleModel",
          "model_module_version": "1.5.0",
          "state": {
            "_model_module": "@jupyter-widgets/controls",
            "_model_module_version": "1.5.0",
            "_model_name": "DescriptionStyleModel",
            "_view_count": null,
            "_view_module": "@jupyter-widgets/base",
            "_view_module_version": "1.2.0",
            "_view_name": "StyleView",
            "description_width": ""
          }
        },
        "7e83d16d8bc741da8aa65a5eaaaf4c00": {
          "model_module": "@jupyter-widgets/base",
          "model_name": "LayoutModel",
          "model_module_version": "1.2.0",
          "state": {
            "_model_module": "@jupyter-widgets/base",
            "_model_module_version": "1.2.0",
            "_model_name": "LayoutModel",
            "_view_count": null,
            "_view_module": "@jupyter-widgets/base",
            "_view_module_version": "1.2.0",
            "_view_name": "LayoutView",
            "align_content": null,
            "align_items": null,
            "align_self": null,
            "border": null,
            "bottom": null,
            "display": null,
            "flex": null,
            "flex_flow": null,
            "grid_area": null,
            "grid_auto_columns": null,
            "grid_auto_flow": null,
            "grid_auto_rows": null,
            "grid_column": null,
            "grid_gap": null,
            "grid_row": null,
            "grid_template_areas": null,
            "grid_template_columns": null,
            "grid_template_rows": null,
            "height": null,
            "justify_content": null,
            "justify_items": null,
            "left": null,
            "margin": null,
            "max_height": null,
            "max_width": null,
            "min_height": null,
            "min_width": null,
            "object_fit": null,
            "object_position": null,
            "order": null,
            "overflow": null,
            "overflow_x": null,
            "overflow_y": null,
            "padding": null,
            "right": null,
            "top": null,
            "visibility": null,
            "width": null
          }
        },
        "b9ee4a2ba1a945298d9e3558f96d1288": {
          "model_module": "@jupyter-widgets/controls",
          "model_name": "ProgressStyleModel",
          "model_module_version": "1.5.0",
          "state": {
            "_model_module": "@jupyter-widgets/controls",
            "_model_module_version": "1.5.0",
            "_model_name": "ProgressStyleModel",
            "_view_count": null,
            "_view_module": "@jupyter-widgets/base",
            "_view_module_version": "1.2.0",
            "_view_name": "StyleView",
            "bar_color": null,
            "description_width": ""
          }
        },
        "4e0718159bab4b75a8832a22207c0967": {
          "model_module": "@jupyter-widgets/base",
          "model_name": "LayoutModel",
          "model_module_version": "1.2.0",
          "state": {
            "_model_module": "@jupyter-widgets/base",
            "_model_module_version": "1.2.0",
            "_model_name": "LayoutModel",
            "_view_count": null,
            "_view_module": "@jupyter-widgets/base",
            "_view_module_version": "1.2.0",
            "_view_name": "LayoutView",
            "align_content": null,
            "align_items": null,
            "align_self": null,
            "border": null,
            "bottom": null,
            "display": null,
            "flex": null,
            "flex_flow": null,
            "grid_area": null,
            "grid_auto_columns": null,
            "grid_auto_flow": null,
            "grid_auto_rows": null,
            "grid_column": null,
            "grid_gap": null,
            "grid_row": null,
            "grid_template_areas": null,
            "grid_template_columns": null,
            "grid_template_rows": null,
            "height": null,
            "justify_content": null,
            "justify_items": null,
            "left": null,
            "margin": null,
            "max_height": null,
            "max_width": null,
            "min_height": null,
            "min_width": null,
            "object_fit": null,
            "object_position": null,
            "order": null,
            "overflow": null,
            "overflow_x": null,
            "overflow_y": null,
            "padding": null,
            "right": null,
            "top": null,
            "visibility": null,
            "width": null
          }
        },
        "667774709094495eaeabe82621cd3095": {
          "model_module": "@jupyter-widgets/controls",
          "model_name": "DescriptionStyleModel",
          "model_module_version": "1.5.0",
          "state": {
            "_model_module": "@jupyter-widgets/controls",
            "_model_module_version": "1.5.0",
            "_model_name": "DescriptionStyleModel",
            "_view_count": null,
            "_view_module": "@jupyter-widgets/base",
            "_view_module_version": "1.2.0",
            "_view_name": "StyleView",
            "description_width": ""
          }
        }
      }
    }
  },
  "nbformat": 4,
  "nbformat_minor": 0
}